{
 "cells": [
  {
   "cell_type": "markdown",
   "id": "294b8d3d",
   "metadata": {},
   "source": [
    "# Постановка задачи\n",
    "Почта-Банк запустил игровую программу лояльности \"Шанс\".<br> \n",
    "Для того, чтобы ей воспользоваться, необходимо совершить покупки. После этого выбрать желаемый кэшбек от 2 до 12 процентов и бросить игральные кости. Если сумма костей совпадет с желаемым кэшбеков, то клиенту начислится бонус в размере выбранного значения.<br> \n",
    "Цель: максимизировать прибыль от кэшбека.<br> \n",
    "Задача: найти сумму чисел на двух кубиках, которая является наиболее выигрышной."
   ]
  },
  {
   "cell_type": "markdown",
   "id": "ebf365be",
   "metadata": {},
   "source": [
    "# Быстрый ответ\n",
    "Клиенту банка для максимизации прибыли нужны выбирать 7."
   ]
  },
  {
   "cell_type": "markdown",
   "id": "2fcb3206",
   "metadata": {},
   "source": [
    "# Решение"
   ]
  },
  {
   "cell_type": "markdown",
   "id": "949777a9",
   "metadata": {},
   "source": [
    "## Необходимое условие\n",
    "Для того, чтобы исследование имело смысл предположим, что виртуальные кубики Почта-Банка честные."
   ]
  },
  {
   "cell_type": "markdown",
   "id": "22e642c9",
   "metadata": {},
   "source": [
    "## Математическое решение\n",
    "\n",
    "По таблице исходов видим, что наиболее частая сумма выпадений-семь.<br> Такая сумма встречается шесть раз. Всего возможных сумм $6*6=36$.<br>\n",
    "Тогда вероятность получить сумму семь $P= \\frac {6}{36}= \\frac {1}{6} \\approx 0.166$<br>\n",
    "**Ответ:** Наиболее выигрышная сумма на кубиках **7**"
   ]
  },
  {
   "cell_type": "markdown",
   "id": "72ab552c",
   "metadata": {},
   "source": [
    "## Программное решение"
   ]
  },
  {
   "cell_type": "markdown",
   "id": "51ccd516",
   "metadata": {},
   "source": [
    "Допустим, что нам нужно посчитать вероятности других исходов.</br>\n",
    "А под рукой нет таблицы вариантов, чертить ее долго, а представить в уме сложно. </br>\n",
    "Для решания такой задачи сгенерируем все возможные варианты possible_amounts.</br>\n",
    "Создадим датафрейм possible_amounts_df в который запишем информацию о количестве вхождений и вероятности."
   ]
  },
  {
   "cell_type": "code",
   "execution_count": 1,
   "id": "e42a5e95",
   "metadata": {},
   "outputs": [],
   "source": [
    "import pandas as pd\n",
    "import numpy as np\n",
    "import random\n",
    "from collections import Counter"
   ]
  },
  {
   "cell_type": "code",
   "execution_count": 2,
   "id": "d376a875",
   "metadata": {},
   "outputs": [],
   "source": [
    "def generate_df(list_possible_amounts:list, count_options:int)->pd.core.frame.DataFrame:\n",
    "    df = pd.DataFrame(list(Counter(list_possible_amounts).items()), columns = ['Сумма', 'Количество вхождений'])\n",
    "    df['Вероятность'] = df['Количество вхождений']/count_options*100\n",
    "    df = df.sort_values(by='Вероятность', ascending=False).reset_index(drop= True)\n",
    "    return df"
   ]
  },
  {
   "cell_type": "code",
   "execution_count": 3,
   "id": "adea5535",
   "metadata": {},
   "outputs": [
    {
     "data": {
      "text/html": [
       "<div>\n",
       "<style scoped>\n",
       "    .dataframe tbody tr th:only-of-type {\n",
       "        vertical-align: middle;\n",
       "    }\n",
       "\n",
       "    .dataframe tbody tr th {\n",
       "        vertical-align: top;\n",
       "    }\n",
       "\n",
       "    .dataframe thead th {\n",
       "        text-align: right;\n",
       "    }\n",
       "</style>\n",
       "<table border=\"1\" class=\"dataframe\">\n",
       "  <thead>\n",
       "    <tr style=\"text-align: right;\">\n",
       "      <th></th>\n",
       "      <th>Сумма</th>\n",
       "      <th>Количество вхождений</th>\n",
       "      <th>Вероятность</th>\n",
       "    </tr>\n",
       "  </thead>\n",
       "  <tbody>\n",
       "    <tr>\n",
       "      <th>0</th>\n",
       "      <td>7</td>\n",
       "      <td>6</td>\n",
       "      <td>16.666667</td>\n",
       "    </tr>\n",
       "    <tr>\n",
       "      <th>1</th>\n",
       "      <td>6</td>\n",
       "      <td>5</td>\n",
       "      <td>13.888889</td>\n",
       "    </tr>\n",
       "    <tr>\n",
       "      <th>2</th>\n",
       "      <td>8</td>\n",
       "      <td>5</td>\n",
       "      <td>13.888889</td>\n",
       "    </tr>\n",
       "    <tr>\n",
       "      <th>3</th>\n",
       "      <td>5</td>\n",
       "      <td>4</td>\n",
       "      <td>11.111111</td>\n",
       "    </tr>\n",
       "    <tr>\n",
       "      <th>4</th>\n",
       "      <td>9</td>\n",
       "      <td>4</td>\n",
       "      <td>11.111111</td>\n",
       "    </tr>\n",
       "    <tr>\n",
       "      <th>5</th>\n",
       "      <td>4</td>\n",
       "      <td>3</td>\n",
       "      <td>8.333333</td>\n",
       "    </tr>\n",
       "    <tr>\n",
       "      <th>6</th>\n",
       "      <td>10</td>\n",
       "      <td>3</td>\n",
       "      <td>8.333333</td>\n",
       "    </tr>\n",
       "    <tr>\n",
       "      <th>7</th>\n",
       "      <td>3</td>\n",
       "      <td>2</td>\n",
       "      <td>5.555556</td>\n",
       "    </tr>\n",
       "    <tr>\n",
       "      <th>8</th>\n",
       "      <td>11</td>\n",
       "      <td>2</td>\n",
       "      <td>5.555556</td>\n",
       "    </tr>\n",
       "    <tr>\n",
       "      <th>9</th>\n",
       "      <td>2</td>\n",
       "      <td>1</td>\n",
       "      <td>2.777778</td>\n",
       "    </tr>\n",
       "    <tr>\n",
       "      <th>10</th>\n",
       "      <td>12</td>\n",
       "      <td>1</td>\n",
       "      <td>2.777778</td>\n",
       "    </tr>\n",
       "  </tbody>\n",
       "</table>\n",
       "</div>"
      ],
      "text/plain": [
       "    Сумма  Количество вхождений  Вероятность\n",
       "0       7                     6    16.666667\n",
       "1       6                     5    13.888889\n",
       "2       8                     5    13.888889\n",
       "3       5                     4    11.111111\n",
       "4       9                     4    11.111111\n",
       "5       4                     3     8.333333\n",
       "6      10                     3     8.333333\n",
       "7       3                     2     5.555556\n",
       "8      11                     2     5.555556\n",
       "9       2                     1     2.777778\n",
       "10     12                     1     2.777778"
      ]
     },
     "execution_count": 3,
     "metadata": {},
     "output_type": "execute_result"
    }
   ],
   "source": [
    "possible_amounts = [i+j for i in range(1,7) for j in range(1,7)]\n",
    "possible_amounts_df = generate_df(possible_amounts, 36)\n",
    "possible_amounts_df"
   ]
  },
  {
   "cell_type": "markdown",
   "id": "f882bafe",
   "metadata": {},
   "source": [
    "Отсюда видим, что топ-5 наиболее вероятных исодов **{7,6,8,5,9}**.</br>\n",
    "Прибыль от 6 и 5 процентов меньше чем от 7. Вероятность их появления тоже меньше. Поэтому выведем их из эксперемента.</br>Оставим **7**, как самую вероятную, **8 и 9** как суммы с меньшей вероятностью, но с большей потенциальной прибылью."
   ]
  },
  {
   "cell_type": "markdown",
   "id": "6f2be72d",
   "metadata": {},
   "source": [
    "### Генерация чисел"
   ]
  },
  {
   "cell_type": "markdown",
   "id": "c70b7466",
   "metadata": {},
   "source": [
    "Проверим результаты предыдущих вычислений на практике. Также проверим гипотезу- меньшая вероятность выпадения сумм 8 и 9 может компенсироваться дополнительной прибылью связанной с разницей между ними и суммой 7, один и два процента соответсвенно.\n",
    "Для проверки этой гипотезы создана функция generate_random_sum, которая генерирует список рандомных сумм в колличестве count_random_sum.\n"
   ]
  },
  {
   "cell_type": "code",
   "execution_count": 7,
   "id": "1e855e10",
   "metadata": {},
   "outputs": [],
   "source": [
    "def generate_random_sum(count_random_sum:int)->np.array:\n",
    "    first_value = np.array([random.randint(1,6) for i in range(count_random_sum)])\n",
    "    second_value = np.array([random.randint(1,6) for i in range(count_random_sum)])\n",
    "    return first_value+second_value"
   ]
  },
  {
   "cell_type": "markdown",
   "id": "bdb02324",
   "metadata": {},
   "source": [
    "Далее введем функцию generate_mean_sum, она моделирует генерацию сумм в количестве count_random_sum тысячу раз для статистически значимого результата. Дальше считается среднее количество появлений 7,8,9. Результат работы - список средних количеств появлений."
   ]
  },
  {
   "cell_type": "code",
   "execution_count": 8,
   "id": "307aef25",
   "metadata": {},
   "outputs": [],
   "source": [
    "def generate_mean_sum(count_random_sum:int)->list:\n",
    "    list_7 = []\n",
    "    list_8 = []\n",
    "    list_9 = []\n",
    "    for i in range(1000):\n",
    "        dict_sum_value = Counter(generate_random_sum(count_random_sum))\n",
    "        list_7.append(dict_sum_value[7])\n",
    "        list_8.append(dict_sum_value[8])\n",
    "        list_9.append(dict_sum_value[9])\n",
    "    return [round(np.mean(list_7)), round(np.mean(list_8)), round(np.mean(list_9))]"
   ]
  },
  {
   "cell_type": "code",
   "execution_count": 9,
   "id": "bfee8d27",
   "metadata": {},
   "outputs": [
    {
     "name": "stdout",
     "output_type": "stream",
     "text": [
      "Количество эксперементов 10\n",
      "Среднее число сумм 7-2\n",
      "Среднее число сумм 8-1\n",
      "Среднее число сумм 9-1\n"
     ]
    }
   ],
   "source": [
    "count_experiment = 10\n",
    "mean_list_10 = generate_mean_sum(count_experiment)\n",
    "print(f\"Количество эксперементов {count_experiment}\\nСреднее число сумм 7-{mean_list_10[0]}\\nСреднее число сумм 8-{mean_list_10[1]}\\nСреднее число сумм 9-{mean_list_10[2]}\")"
   ]
  },
  {
   "cell_type": "code",
   "execution_count": 10,
   "id": "a77f94e9",
   "metadata": {},
   "outputs": [
    {
     "name": "stdout",
     "output_type": "stream",
     "text": [
      "Количество эксперементов 100\n",
      "Среднее число сумм 7-17\n",
      "Среднее число сумм 8-14\n",
      "Среднее число сумм 9-11\n"
     ]
    }
   ],
   "source": [
    "count_experiment = 100\n",
    "mean_list_100 = generate_mean_sum(count_experiment)\n",
    "print(f\"Количество эксперементов {count_experiment}\\nСреднее число сумм 7-{mean_list_100[0]}\\nСреднее число сумм 8-{mean_list_100[1]}\\nСреднее число сумм 9-{mean_list_100[2]}\")"
   ]
  },
  {
   "cell_type": "code",
   "execution_count": 11,
   "id": "7c80f98e",
   "metadata": {},
   "outputs": [
    {
     "name": "stdout",
     "output_type": "stream",
     "text": [
      "Количество эксперементов 1000\n",
      "Среднее число сумм 7-167\n",
      "Среднее число сумм 8-139\n",
      "Среднее число сумм 9-111\n"
     ]
    }
   ],
   "source": [
    "count_experiment = 1000\n",
    "mean_list_1000 = generate_mean_sum(count_experiment)\n",
    "print(f\"Количество эксперементов {count_experiment}\\nСреднее число сумм 7-{mean_list_1000[0]}\\nСреднее число сумм 8-{mean_list_1000[1]}\\nСреднее число сумм 9-{mean_list_1000[2]}\")"
   ]
  },
  {
   "cell_type": "markdown",
   "id": "d56e02d7",
   "metadata": {},
   "source": [
    "### Проверка стратегий"
   ]
  },
  {
   "cell_type": "markdown",
   "id": "f797968b",
   "metadata": {},
   "source": [
    "Введем функцию testing_strategies, которая принимает результат из функции generate_mean_sum, количество экспериментов, стоимость покупок по клиенту. Выводит информацию о полученном кэшбеке."
   ]
  },
  {
   "cell_type": "code",
   "execution_count": 12,
   "id": "8e7c24fe",
   "metadata": {},
   "outputs": [],
   "source": [
    "def testing_strategies(mean_sums:list, count_experiment:int, cost_purchase:int):\n",
    "    percents = [0.07, 0.08, 0.09]\n",
    "    for i, value in enumerate(mean_sums):\n",
    "        profit = round(cost_purchase*value*percents[i])\n",
    "        print(f'Предполагаемый кэшбек который получит клиент, если он будет выбирать {round(percents[i]*100)} = {profit}')\n",
    "    print(f'Стоимсоть покупок {cost_purchase}\\nКоличество экспереиментов {count_experiment}')"
   ]
  },
  {
   "cell_type": "code",
   "execution_count": 13,
   "id": "7b9ea39f",
   "metadata": {},
   "outputs": [
    {
     "name": "stdout",
     "output_type": "stream",
     "text": [
      "Предполагаемый кэшбек который получит клиент, если он будет выбирать 7 = 140\n",
      "Предполагаемый кэшбек который получит клиент, если он будет выбирать 8 = 80\n",
      "Предполагаемый кэшбек который получит клиент, если он будет выбирать 9 = 90\n",
      "Стоимсоть покупок 1000\n",
      "Количество экспереиментов 10\n"
     ]
    }
   ],
   "source": [
    "testing_strategies(mean_list_10, 10, 1000)"
   ]
  },
  {
   "cell_type": "code",
   "execution_count": 14,
   "id": "88e53b12",
   "metadata": {},
   "outputs": [
    {
     "name": "stdout",
     "output_type": "stream",
     "text": [
      "Предполагаемый кэшбек который получит клиент, если он будет выбирать 7 = 1190\n",
      "Предполагаемый кэшбек который получит клиент, если он будет выбирать 8 = 1120\n",
      "Предполагаемый кэшбек который получит клиент, если он будет выбирать 9 = 990\n",
      "Стоимсоть покупок 1000\n",
      "Количество экспереиментов 100\n"
     ]
    }
   ],
   "source": [
    "testing_strategies(mean_list_100, 100, 1000)"
   ]
  },
  {
   "cell_type": "code",
   "execution_count": 15,
   "id": "236e7ed4",
   "metadata": {},
   "outputs": [
    {
     "name": "stdout",
     "output_type": "stream",
     "text": [
      "Предполагаемый кэшбек который получит клиент, если он будет выбирать 7 = 11690\n",
      "Предполагаемый кэшбек который получит клиент, если он будет выбирать 8 = 11120\n",
      "Предполагаемый кэшбек который получит клиент, если он будет выбирать 9 = 9990\n",
      "Стоимсоть покупок 1000\n",
      "Количество экспереиментов 1000\n"
     ]
    }
   ],
   "source": [
    "testing_strategies(mean_list_1000, 1000, 1000)"
   ]
  },
  {
   "cell_type": "markdown",
   "id": "e1c1ebc4",
   "metadata": {},
   "source": [
    "# Выводы\n",
    "Наиболее выгодная стратегия для клиента при любом количестве покупок выбирать кэшбек 7 процентов."
   ]
  }
 ],
 "metadata": {
  "kernelspec": {
   "display_name": "Python 3 (ipykernel)",
   "language": "python",
   "name": "python3"
  },
  "language_info": {
   "codemirror_mode": {
    "name": "ipython",
    "version": 3
   },
   "file_extension": ".py",
   "mimetype": "text/x-python",
   "name": "python",
   "nbconvert_exporter": "python",
   "pygments_lexer": "ipython3",
   "version": "3.10.8"
  }
 },
 "nbformat": 4,
 "nbformat_minor": 5
}
